{
  "nbformat": 4,
  "nbformat_minor": 0,
  "metadata": {
    "colab": {
      "provenance": [],
      "authorship_tag": "ABX9TyO1Uuu/M6LhsNIB4ok92uIo",
      "include_colab_link": true
    },
    "kernelspec": {
      "name": "python3",
      "display_name": "Python 3"
    },
    "language_info": {
      "name": "python"
    }
  },
  "cells": [
    {
      "cell_type": "markdown",
      "metadata": {
        "id": "view-in-github",
        "colab_type": "text"
      },
      "source": [
        "<a href=\"https://colab.research.google.com/github/pablopuch/Laberinto-Q-Learning-Recorrido-en-Abanico/blob/main/Laberinto_Q_Learning_Recorrido_en_Abanico.ipynb\" target=\"_parent\"><img src=\"https://colab.research.google.com/assets/colab-badge.svg\" alt=\"Open In Colab\"/></a>"
      ]
    },
    {
      "cell_type": "code",
      "source": [
        "import numpy as np\n",
        "import matplotlib.pyplot as plt"
      ],
      "metadata": {
        "id": "Yu5xX6p9aEvq"
      },
      "execution_count": null,
      "outputs": []
    },
    {
      "cell_type": "markdown",
      "source": [
        "# Laberinto Recursividad"
      ],
      "metadata": {
        "id": "dZjIGZqmU77v"
      }
    },
    {
      "cell_type": "code",
      "source": [
        "n=50\n",
        "maze=np.zeros((n,n),dtype=int) \n",
        "\n",
        "for t in range(n):\n",
        "    maze[0,t]=1\n",
        "    maze[n-1,t]=1\n",
        "    maze[t,0]=1\n",
        "    maze[t,n-1]=1\n",
        "\n",
        "porcentaje=30\n",
        "t=0\n",
        "while t<(porcentaje/100)*n*n:\n",
        "    i=np.random.randint(n)\n",
        "    j=np.random.randint(n)\n",
        "    maze[i,j]=1\n",
        "    t=t+1\n",
        "    \n",
        "#plt.figure(figsize=(10,10))\n",
        "plt.title(\"laberinto\")\n",
        "plt.imshow(maze)\n",
        "\n",
        "mark=np.zeros((n,n),dtype=int) \n",
        "\n",
        "move=np.zeros((4,2),dtype=int) \n",
        "move[0,0]=-1\n",
        "move[0,1]=0\n",
        "move[1,0]=0\n",
        "move[1,1]=1\n",
        "move[2,0]=1\n",
        "move[2,1]=0\n",
        "move[3,0]=0\n",
        "move[3,1]=-1\n",
        "\n",
        "solX=n-2\n",
        "solY=n-2\n",
        "def resolver(i,j):\n",
        "    if ((i==solX) and (j==solY)):\n",
        "        print (\"encontrado\")                 \n",
        "    else:\n",
        "        for mov in range(0,3):\n",
        "            g=i+move[mov,0]\n",
        "            h=j+move[mov,1]\n",
        "            if (g>=0 and g<=n and h>=0 and h<=n):\n",
        "                if ((mark[g,h]==0) and (maze[g,h]==0)):\n",
        "                    mark[g,h]=1\n",
        "                    resolver(g,h)\n",
        "                    \n",
        "resolver(2,2)                \n",
        "plt.imshow(mark)"
      ],
      "metadata": {
        "colab": {
          "base_uri": "https://localhost:8080/",
          "height": 469
        },
        "id": "MhNxi063VBYm",
        "outputId": "366572dc-9815-48c4-ba01-8d4309e809ed"
      },
      "execution_count": null,
      "outputs": [
        {
          "output_type": "execute_result",
          "data": {
            "text/plain": [
              "<matplotlib.image.AxesImage at 0x7fc5a11d2700>"
            ]
          },
          "metadata": {},
          "execution_count": 66
        },
        {
          "output_type": "display_data",
          "data": {
            "text/plain": [
              "<Figure size 640x480 with 1 Axes>"
            ],
            "image/png": "[encoded data removed]"
          },
          "metadata": {}
        }
      ]
    },
    {
      "cell_type": "markdown",
      "source": [
        "# Laberinto Recursividad en Abanico"
      ],
      "metadata": {
        "id": "xyO_ogBrU3wn"
      }
    },
    {
      "cell_type": "code",
      "execution_count": null,
      "metadata": {
        "colab": {
          "base_uri": "https://localhost:8080/",
          "height": 469
        },
        "id": "a2r6Nt8DOj3s",
        "outputId": "932156fa-ea8b-4965-f73a-3af268aac055"
      },
      "outputs": [
        {
          "output_type": "execute_result",
          "data": {
            "text/plain": [
              "<matplotlib.image.AxesImage at 0x7fc5a171ca30>"
            ]
          },
          "metadata": {},
          "execution_count": 61
        },
        {
          "output_type": "display_data",
          "data": {
            "text/plain": [
              "<Figure size 640x480 with 1 Axes>"
            ],
            "image/png": "[encoded data removed]"
          },
          "metadata": {}
        }
      ],
      "source": [
        "n=25 # tamaña del laberinto\n",
        "porcentaje=30 # numero en % de paredes\n",
        "maze=np.zeros((n,n),dtype=int) # generar laberinto\n",
        "\n",
        "# punto salida y llegada\n",
        "start_state = (1, 1)\n",
        "end_state = (n-2, n-2)\n",
        "\n",
        "# Rellenamos los bordes\n",
        "for t in range(n):\n",
        "    maze[0,t]=1\n",
        "    maze[n-1,t]=1\n",
        "    maze[t,0]=1\n",
        "    maze[t,n-1]=1\n",
        "\n",
        "t=0\n",
        "\n",
        "# bucle para gnerar las paredes del laberinto\n",
        "while t<(porcentaje/100)*n*n:\n",
        "    i=np.random.randint(n)\n",
        "    j=np.random.randint(n)\n",
        "    maze[i,j]=1\n",
        "    t=t+1\n",
        "\n",
        "\n",
        "move=np.zeros((4,2),dtype=int) \n",
        "# Moverse hacia: DERECHA\n",
        "move[0,0]= 0 \n",
        "move[0,1]= 1\n",
        "# Moverse hacia: ABAJO\n",
        "move[1,0]= 1 \n",
        "move[1,1]= 0\n",
        "# Moverse hacia: IZQUIERDA\n",
        "move[2,0]= 0\n",
        "move[2,1]= -1\n",
        "# Moverse hacia: ARRIBA\n",
        "move[3,0]= -1\n",
        "move[3,1]= 0\n",
        "    \n",
        "\n",
        "    \n",
        "plt.title(\"Laberinto\")\n",
        "plt.imshow(maze)"
      ]
    },
    {
      "cell_type": "code",
      "source": [
        "# Objeto Posición para introducir en la cola\n",
        "class Celda:\n",
        "    def __init__(self, fila, columna):\n",
        "      # Inicia las filas y columnas de la celda\n",
        "        self.fila = fila\n",
        "        self.columna = columna\n",
        "\n",
        "    def __str__(self):\n",
        "      # Devuelve los valores de la celda\n",
        "      return f'[{self.fila},{self.columna}]'\n",
        "    \n",
        "    def __eq__(self, other): \n",
        "      # Indica si la celda está implementada o no, en caso contrario genera una\n",
        "        if not isinstance(other, Celda):\n",
        "            return NotImplemented\n",
        "        return self.fila == other.fila and self.columna == other.columna\n",
        "\n",
        "class Cola:\n",
        "    def __init__(self):\n",
        "        # Se genera una cola vacía al inciiarse\n",
        "        self.items = []\n",
        "\n",
        "    def encolar(self, x):\n",
        "        # Agregar un elemento al final de la cola\n",
        "        self.items.append(x)\n",
        "\n",
        "    def desencolar(self):\n",
        "        # Eliminar el primer elemento de la cola y obtener su valor\n",
        "        try:\n",
        "            return self.items.pop(0)\n",
        "        except:\n",
        "            raise ValueError(\"La cola está vacía\")\n",
        "\n",
        "    def esta_vacia(self):\n",
        "\n",
        "        return self.items == []\n",
        "\n",
        "    def obtener(self):\n",
        "        # Obtiene la lista de la cola\n",
        "        return self.items\n",
        "    \n",
        "    def mostrarCola(self):\n",
        "        for c in self.items:\n",
        "          print(c)"
      ],
      "metadata": {
        "id": "SCKI0PcAW0V7"
      },
      "execution_count": null,
      "outputs": []
    },
    {
      "cell_type": "code",
      "source": [
        "cola = Cola()\n",
        "celda_inicial = Celda(start_state[0], start_state[1])\n",
        "\n",
        "cola.encolar(celda_inicial)\n",
        "\n",
        "fin = False\n",
        "cont = 0 # contador\n",
        "\n",
        "def resolver():\n",
        "    global fin\n",
        "    global cont\n",
        "\n",
        "    # while (fin==False): \n",
        "    cont += 1\n",
        "    celda_actual = cola.desencolar()\n",
        "\n",
        "    if (celda_actual.fila==end_state[0]) and (celda_actual.columna==end_state[1]):\n",
        "            fin = True\n",
        "            #Marco la llegada al final\n",
        "            mark[celda_actual.fila, celda_actual.columna] = -1\n",
        "            return\n",
        "\n",
        "    else:\n",
        "            for i in range(0,4):\n",
        "                movimiento_fila = celda_actual.fila + move[i,0]\n",
        "                movimiento_columna = celda_actual.columna + move[i,1]\n",
        "\n",
        "                if (mark[movimiento_fila,movimiento_columna]==0) and (maze[movimiento_fila,movimiento_columna]==0):\n",
        "                    mark[celda_actual.fila,celda_actual.columna] = cont\n",
        "\n",
        "                    if Celda(movimiento_fila, movimiento_columna) not in cola.obtener():\n",
        "                        cola.encolar(Celda(movimiento_fila,movimiento_columna))\n",
        "\n",
        "            plt.imshow(mark)\n",
        "            resolver()"
      ],
      "metadata": {
        "id": "AQU_SRLzXmlB"
      },
      "execution_count": null,
      "outputs": []
    },
    {
      "cell_type": "code",
      "source": [
        "mark=np.zeros((n,n),dtype=int)\n",
        "resolver()"
      ],
      "metadata": {
        "colab": {
          "base_uri": "https://localhost:8080/",
          "height": 430
        },
        "id": "RXxiLZhgrwbp",
        "outputId": "b9b48d7d-f6c1-4194-c39d-be1b3a88e7ca"
      },
      "execution_count": null,
      "outputs": [
        {
          "output_type": "display_data",
          "data": {
            "text/plain": [
              "<Figure size 640x480 with 1 Axes>"
            ],
            "image/png": "[encoded data removed]"
          },
          "metadata": {}
        }
      ]
    },
    {
      "cell_type": "code",
      "source": [
        "plt.imshow(maze)"
      ],
      "metadata": {
        "id": "bD91z7ogrwuo",
        "colab": {
          "base_uri": "https://localhost:8080/",
          "height": 447
        },
        "outputId": "c9b28d2e-010f-4b84-a690-50359beafcb4"
      },
      "execution_count": null,
      "outputs": [
        {
          "output_type": "execute_result",
          "data": {
            "text/plain": [
              "<matplotlib.image.AxesImage at 0x7fc5a1f3f760>"
            ]
          },
          "metadata": {},
          "execution_count": 65
        },
        {
          "output_type": "display_data",
          "data": {
            "text/plain": [
              "<Figure size 640x480 with 1 Axes>"
            ],
            "image/png": "[encoded data removed]"
          },
          "metadata": {}
        }
      ]
    }
  ]
}